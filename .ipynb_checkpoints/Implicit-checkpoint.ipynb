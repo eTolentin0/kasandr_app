{
 "cells": [
  {
   "cell_type": "code",
   "execution_count": null,
   "id": "2468e9a2",
   "metadata": {},
   "outputs": [],
   "source": [
    "#jogar db no sql para melhorar as querys"
   ]
  },
  {
   "cell_type": "markdown",
   "id": "ad8bc78d",
   "metadata": {},
   "source": [
    "### IMPORT DE BIBLIOTECAS"
   ]
  },
  {
   "cell_type": "code",
   "execution_count": 3,
   "id": "07fc8d0b",
   "metadata": {},
   "outputs": [],
   "source": [
    "from collections import defaultdict\n",
    "import pandas as pd\n",
    "import numpy as np\n",
    "import os\n",
    "\n",
    "import implicit\n",
    "from implicit.evaluation import train_test_split, ndcg_at_k, AUC_at_k, mean_average_precision_at_k, precision_at_k\n",
    "\n",
    "from scipy.sparse import csr_matrix, save_npz, load_npz\n",
    "\n",
    "from matplotlib import pyplot as plt\n",
    "import seaborn as sns\n",
    "\n",
    "# from surprise import Dataset, Reader, SVD, SVDpp, KNNWithMeans\n",
    "# from surprise.model_selection import train_test_split, cross_validate\n",
    "# from surprise import accuracy\n",
    "# from surprise.model_selection import cross_validate\n",
    "\n",
    "# from sklearn.neighbors import NearestNeighbors\n",
    "# from sklearn.metrics.pairwise import cosine_similarity, pairwise_distances\n",
    "#from sklearn.model_selection import GridSearchCV, RandomizedSearchCV\n",
    "import pickle\n",
    "# import flask\n",
    "from tqdm import tqdm\n",
    "#from deep_translator import GoogleTranslator\n",
    "import warnings"
   ]
  },
  {
   "cell_type": "code",
   "execution_count": null,
   "id": "0f4462ce",
   "metadata": {},
   "outputs": [],
   "source": [
    "warnings.filterwarnings('ignore')"
   ]
  },
  {
   "cell_type": "markdown",
   "id": "db101a4a",
   "metadata": {},
   "source": [
    "### Carregamento de dados de categorias e histórico de clicks"
   ]
  },
  {
   "cell_type": "code",
   "execution_count": 11,
   "id": "8b421131",
   "metadata": {},
   "outputs": [],
   "source": [
    "df_de_cat = pd.read_csv(os.getcwd()+'\\.txt\\category_de.txt') # DataFrame Informativo das categorias"
   ]
  },
  {
   "cell_type": "code",
   "execution_count": 12,
   "id": "0bc7ad20",
   "metadata": {},
   "outputs": [
    {
     "name": "stdout",
     "output_type": "stream",
     "text": [
      "<class 'pandas.core.frame.DataFrame'>\n",
      "RangeIndex: 696606 entries, 0 to 696605\n",
      "Data columns (total 9 columns):\n",
      " #   Column       Non-Null Count   Dtype \n",
      "---  ------       --------------   ----- \n",
      " 0   UserId       696606 non-null  object\n",
      " 1   OfferId      696606 non-null  object\n",
      " 2   OfferViewId  696606 non-null  object\n",
      " 3   CountryCode  696606 non-null  object\n",
      " 4   Category     696606 non-null  int64 \n",
      " 5   Source       696606 non-null  object\n",
      " 6   UtcDate      696606 non-null  object\n",
      " 7   Keywords     2886 non-null    object\n",
      " 8   OfferTitle   693966 non-null  object\n",
      "dtypes: int64(1), object(8)\n",
      "memory usage: 47.8+ MB\n"
     ]
    }
   ],
   "source": [
    "clicks_de = pd.read_csv(os.getcwd()+'\\.txt\\clicks_de_sample_2.txt', sep = ',', header=0) # df de histórico de clicks\n",
    "clicks_de.info()"
   ]
  },
  {
   "cell_type": "markdown",
   "id": "a82f866d",
   "metadata": {},
   "source": [
    "Valores missing na coluna de OfferTitle que serão excluídos."
   ]
  },
  {
   "cell_type": "code",
   "execution_count": 13,
   "id": "5ddc12ea",
   "metadata": {},
   "outputs": [],
   "source": [
    "clicks_de = clicks_de[clicks_de.OfferTitle.isna() == False]"
   ]
  },
  {
   "cell_type": "markdown",
   "id": "2384ed8b",
   "metadata": {},
   "source": [
    "### Conversão das colunas de usuário e oferta em categórica e criando novas colunas com os códigos adotados "
   ]
  },
  {
   "cell_type": "code",
   "execution_count": 14,
   "id": "8ab2feaa",
   "metadata": {},
   "outputs": [],
   "source": [
    "clicks_de.UserId = clicks_de.UserId.astype('category')\n",
    "clicks_de.OfferId = clicks_de.OfferId.astype('category')"
   ]
  },
  {
   "cell_type": "code",
   "execution_count": 15,
   "id": "791458e1",
   "metadata": {},
   "outputs": [],
   "source": [
    "clicks_de['User'] = clicks_de.UserId.cat.codes\n",
    "clicks_de['Offer'] = clicks_de.OfferId.cat.codes"
   ]
  },
  {
   "cell_type": "markdown",
   "id": "f46d0ad5",
   "metadata": {},
   "source": [
    "### CRIAÇÃO DE COLUNA DE CLICKS POR CATEGORIA"
   ]
  },
  {
   "cell_type": "code",
   "execution_count": 16,
   "id": "012b7825",
   "metadata": {},
   "outputs": [],
   "source": [
    "clicks_de.drop(columns = ['Keywords'], axis = 1, inplace=True)  # DROP DAS KEYWORDS\n",
    "\n",
    "df_de_cat.rename({'Ancertor_ID':'Ancestor_ID'}, axis = 1, inplace = True) # RENAME DO ANCESTOR_ID\n",
    "\n",
    "df_de_cat.drop('Unnamed: 0', axis =1, inplace = True) # Remoção de coluna Unnamed\n",
    "\n",
    "clicks_de['Cat_clicks'] = clicks_de.groupby('Category')['OfferId'].transform('count') # Criação de coluna de clicks por categoria"
   ]
  },
  {
   "cell_type": "markdown",
   "id": "77a8d2d5",
   "metadata": {},
   "source": [
    "### Merge do Dataframe de categorias com o dataframe de clicks "
   ]
  },
  {
   "cell_type": "code",
   "execution_count": 17,
   "id": "619661cd",
   "metadata": {},
   "outputs": [],
   "source": [
    "clicks_de = clicks_de.merge(df_de_cat, left_on = 'Category', right_on = 'ID').drop(['ID'], axis = 1) "
   ]
  },
  {
   "cell_type": "markdown",
   "id": "2d693e54",
   "metadata": {},
   "source": [
    "### Criação de coluna com o nº total de clicks do usuário e nº total de clicks do produto"
   ]
  },
  {
   "cell_type": "code",
   "execution_count": 18,
   "id": "294bc6ae",
   "metadata": {},
   "outputs": [],
   "source": [
    "clicks_de['UserTotalClicks'] = clicks_de.groupby(by=['UserId'])['OfferId'].transform('count')"
   ]
  },
  {
   "cell_type": "code",
   "execution_count": 19,
   "id": "573da05e",
   "metadata": {},
   "outputs": [],
   "source": [
    "clicks_de['ProductClicks'] = clicks_de.groupby(by='OfferId')['UserId'].transform('count')"
   ]
  },
  {
   "cell_type": "code",
   "execution_count": 69,
   "id": "62058704",
   "metadata": {},
   "outputs": [],
   "source": [
    "#Cap minimo de clicks para integrar o sistema de recomendação\n",
    "clicks_de_filtered = clicks_de[(clicks_de.UserTotalClicks > 10) & (clicks_de.ProductClicks > 10)]"
   ]
  },
  {
   "cell_type": "markdown",
   "id": "0bcbd010",
   "metadata": {},
   "source": [
    "\n",
    "### Agrupamento de dos clicks de usuário em ofertas únicas para termos a quantidade de cada usuário em cada oferta.\n"
   ]
  },
  {
   "cell_type": "code",
   "execution_count": 70,
   "id": "7a29e5ae",
   "metadata": {},
   "outputs": [],
   "source": [
    "clicks_per_user_product = clicks_de_filtered.groupby(by=['User','Offer']).count()['UserTotalClicks'].reset_index().rename({'UserTotalClicks':'UserClicks'}, axis = 1)"
   ]
  },
  {
   "cell_type": "code",
   "execution_count": 71,
   "id": "d01c8705",
   "metadata": {},
   "outputs": [],
   "source": [
    "#clicks_per_user_product.UserClicks[clicks_per_user_product.UserClicks>=1] = 1"
   ]
  },
  {
   "cell_type": "markdown",
   "id": "e080872c",
   "metadata": {},
   "source": [
    "### Criação de matrizes esparsas Usuário-item e item-usuário"
   ]
  },
  {
   "cell_type": "code",
   "execution_count": 73,
   "id": "01d93038",
   "metadata": {},
   "outputs": [],
   "source": [
    "alpha = 40\n",
    "sparse_item_user = csr_matrix((clicks_per_user_product['UserClicks'], (clicks_per_user_product['Offer'], clicks_per_user_product['User'])))\n",
    "sparse_user_item = csr_matrix((clicks_per_user_product['UserClicks'], (clicks_per_user_product['User'], clicks_per_user_product['Offer'])))\n",
    "\n",
    "data = (sparse_item_user*alpha).astype('double') # Conversão de tipo para que o modelo ALS funcione corretamente\n",
    "sparse_user_item = (sparse_user_item).astype('double') # Conversão de tipo para que o modelo ALS funcione corretamente\n"
   ]
  },
  {
   "cell_type": "code",
   "execution_count": 74,
   "id": "6547648f",
   "metadata": {},
   "outputs": [
    {
     "data": {
      "text/plain": [
       "0.9999998492355288"
      ]
     },
     "execution_count": 74,
     "metadata": {},
     "output_type": "execute_result"
    }
   ],
   "source": [
    "#Esparsidade de matriz\n",
    "possible_interactions = sparse_item_user.shape[0]*sparse_item_user.shape[1]\n",
    "interacted = len(sparse_item_user.nonzero()[0])\n",
    "sparsity = 1 - interacted/possible_interactions\n",
    "sparsity"
   ]
  },
  {
   "cell_type": "markdown",
   "id": "ae0f2187",
   "metadata": {},
   "source": [
    " Mais de 99% das interações possíveis entre usuários e produtos na atual base dados não foi ainda realizada. Segundo artigo: For collaborative filtering to work, the maximum sparsity you could get away with would probably be about 99.5% or so. Devemos reavaliar a matriz?"
   ]
  },
  {
   "cell_type": "code",
   "execution_count": 76,
   "id": "42f0a175",
   "metadata": {},
   "outputs": [],
   "source": [
    "save_npz(os.getcwd()+\"/.npz/sparse_user_item.npz\", sparse_user_item)\n",
    "save_npz(os.getcwd()+\"/.npz/sparse_item_user.npz\", sparse_item_user)"
   ]
  },
  {
   "cell_type": "code",
   "execution_count": 77,
   "id": "46662e10",
   "metadata": {},
   "outputs": [],
   "source": [
    "model_path = os.getcwd()+'/.pkl/de_als_model.pkl'"
   ]
  },
  {
   "cell_type": "markdown",
   "id": "265d37f1",
   "metadata": {},
   "source": [
    "* Criação de diferentes matrizes esparsas para operar com o algoritmo. Usuário-item e item-usuário. Cada uma deve ser usada no momento preciso\n",
    "* O alfa é o coeficiente de confiabilidade da interação do usuário com um item específico. Valor utilizado fi adotado com base no artigo: https://towardsdatascience.com/alternating-least-square-for-implicit-dataset-with-code-8e7999277f4b. Mas, podemos testar outros valores na validação do modelo.\n",
    "* Outro artigo de base pra elaboração do modelo: https://medium.com/analytics-vidhya/implementation-of-a-movies-recommender-from-implicit-feedback-6a810de173ac"
   ]
  },
  {
   "cell_type": "markdown",
   "id": "57fd29e6",
   "metadata": {},
   "source": [
    "# FUNÇÃO DE RECOMENDAÇÕES - IMPLICIT"
   ]
  },
  {
   "cell_type": "markdown",
   "id": "a84c7942",
   "metadata": {},
   "source": [
    "## Treinamento de modelos"
   ]
  },
  {
   "cell_type": "code",
   "execution_count": 78,
   "id": "0e12dbd5",
   "metadata": {},
   "outputs": [],
   "source": [
    "offers = pickle.load(open(os.getcwd()+\"/.pkl/offers.pkl\", \"rb\"))"
   ]
  },
  {
   "cell_type": "markdown",
   "id": "afdd01e9",
   "metadata": {},
   "source": [
    "Carregamentodo dicionário que converte os códigos de ofertas para o seu título de oferta. Ainda falta traduzir do alemão para o inglês para tirar mais significado dos resultados"
   ]
  },
  {
   "cell_type": "code",
   "execution_count": 79,
   "id": "96449e5a",
   "metadata": {},
   "outputs": [],
   "source": [
    "def als_model():\n",
    "    \n",
    "    '''computes p@k and map@k evaluation metrics and saves model'''\n",
    "    \n",
    "    #sparse_item_user = load_npz(os.getcwd()+\"/.npz/sparse_item_user.npz\")\n",
    "      \n",
    "    train, test = implicit.evaluation.train_test_split(data, train_percentage=0.8)\n",
    "\n",
    "    model = implicit.als.AlternatingLeastSquares(factors=100, \n",
    "                                                 regularization=0.1, \n",
    "                                                 iterations=20, \n",
    "                                                 calculate_training_loss=False)\n",
    "    \n",
    "    model.fit(train)\n",
    "\n",
    "    with open(model_path, 'wb') as pickle_out:\n",
    "        pickle.dump(model, pickle_out)\n",
    "    \n",
    "    return train, test, model"
   ]
  },
  {
   "cell_type": "code",
   "execution_count": 80,
   "id": "3e0c18cc",
   "metadata": {},
   "outputs": [
    {
     "data": {
      "application/vnd.jupyter.widget-view+json": {
       "model_id": "8aa45eccbe014d029526fbe71701b217",
       "version_major": 2,
       "version_minor": 0
      },
      "text/plain": [
       "  0%|          | 0/20 [00:00<?, ?it/s]"
      ]
     },
     "metadata": {},
     "output_type": "display_data"
    }
   ],
   "source": [
    "train, test, model = als_model()"
   ]
  },
  {
   "cell_type": "code",
   "execution_count": 82,
   "id": "2dab5d71",
   "metadata": {},
   "outputs": [
    {
     "data": {
      "application/vnd.jupyter.widget-view+json": {
       "model_id": "ad80d976179c4e4bbed9ce79f8542bda",
       "version_major": 2,
       "version_minor": 0
      },
      "text/plain": [
       "  0%|          | 0/1885 [00:00<?, ?it/s]"
      ]
     },
     "metadata": {},
     "output_type": "display_data"
    },
    {
     "data": {
      "text/plain": [
       "0.1281985009046265"
      ]
     },
     "execution_count": 82,
     "metadata": {},
     "output_type": "execute_result"
    }
   ],
   "source": [
    "implicit.evaluation.precision_at_k(model,train,test)"
   ]
  },
  {
   "cell_type": "markdown",
   "id": "9e5c936d",
   "metadata": {},
   "source": [
    "## Avaliação Baseline"
   ]
  },
  {
   "cell_type": "code",
   "execution_count": 55,
   "id": "986d0427",
   "metadata": {},
   "outputs": [],
   "source": [
    "def get_k_most_popular(sparse_item_user, k):\n",
    "    \n",
    "    \"\"\"Retorna um array com os códigos dos itens clicados por mais clientes da base de dados\"\"\"\n",
    "    \n",
    "    new_sparse = sparse_item_user.copy() # Nova esparsa para não modificar a original\n",
    "    interaction = np.ones_like(new_sparse.data) # Altera os valores da matriz esparsa para '1' se houve interação para que não sejam contadas múltiplas interações do mesmo cliente com o mesmo produto\n",
    "    new_sparse.data = interaction # Assimila o array de interações de 1's aos dados da matriz esparsa\n",
    "    pop_items = np.array((new_sparse).sum(axis = 1)).reshape(-1) # Aqui é feita a soma de interações que ocorreram em cada uma das linhas, que correspondem a cada um dos produtos\n",
    "    most_popular = pd.Series(pop_items).sort_values(ascending = False)[:k] # Os itens são convertidos em série para que possam ser ordenados e então captados os deus com maior incidência para que sejam retornados seus indices(código do produto)\n",
    "    \n",
    "    return most_popular.index"
   ]
  },
  {
   "cell_type": "markdown",
   "id": "58d00d33",
   "metadata": {},
   "source": [
    " O modelo de baseline considerará como sugestão os produtos mais populares de todo o dataframe como recomendação para todos os clientes"
   ]
  },
  {
   "cell_type": "code",
   "execution_count": 56,
   "id": "947b9d12",
   "metadata": {},
   "outputs": [],
   "source": [
    "def baseline_precision_at_k(sparse_item_user, k):\n",
    "    \n",
    "    \"\"\"Avalia a precisão caso o modelo recomendasse apenas os itens mais populares a todos os clientes.\n",
    "    A métrica é calculada com base em uma seleção aleatória de 20% dos clientes.\"\"\"\n",
    "    \n",
    "    # Seleção aleatória de 20% dos usuários para testagem por popularidade\n",
    "    test_sample = np.random.choice(sparse_item_user.indices,\n",
    "                                   size = int(0.2*len(sparse_item_user.indices)), \n",
    "                                   replace = False) \n",
    "    \n",
    "    most_popular = (get_k_most_popular(sparse_item_user)) # lista de 10 itens mais populares\n",
    "    \n",
    "    total_precision = 0 \n",
    "\n",
    "    for user in test_sample:\n",
    "        relevance = 0\n",
    "        for item in most_popular:\n",
    "            if sparse_item_user[item,user] > 0: # Alteração do pesoa das interações para 0 e 1. Assim, será contabilizado apenas se o usuário interagiu com o item ou não.\n",
    "                interact = 1\n",
    "            else:\n",
    "                interact = 0\n",
    "            relevance+= interact\n",
    "        relevance/=k\n",
    "        total_precision+=relevance\n",
    "    total_precision/=len(test_sample)\n",
    "    \n",
    "    return total_precision"
   ]
  },
  {
   "cell_type": "markdown",
   "id": "d6a446dc",
   "metadata": {},
   "source": [
    "### Avaliação do modelo"
   ]
  },
  {
   "cell_type": "code",
   "execution_count": 83,
   "id": "916419dc",
   "metadata": {},
   "outputs": [],
   "source": [
    "def model_evaluation(train, test, model): \n",
    "    \n",
    "    '''Avaliação do modelo treinado com as funções da biblioteca Implicit.\n",
    "    Retorna dicionário com p@k, map@k, ndcg@k e auc@k.'''\n",
    "\n",
    "    \n",
    "    p_at_k = implicit.evaluation.precision_at_k(model, train_user_items=train, \n",
    "                                                test_user_items=test,\n",
    "                                                K=10, \n",
    "                                                show_progress = True)\n",
    "    \n",
    "    m_at_k = implicit.evaluation.mean_average_precision_at_k(model, \n",
    "                                                             train_user_items = train, \n",
    "                                                             test_user_items = test, \n",
    "                                                             K=10, \n",
    "                                                             show_progress = True)\n",
    "\n",
    "    ndcg_at_k = implicit.evaluation.ndcg_at_k(model, \n",
    "                                              train_user_items = train,\n",
    "                                              test_user_items = test, \n",
    "                                              K=10, \n",
    "                                              show_progress = True)\n",
    "\n",
    "    auc_at_k = implicit.evaluation.AUC_at_k(model, \n",
    "                                            train_user_items = train, \n",
    "                                            test_user_items = test, \n",
    "                                            K=10, \n",
    "                                            show_progress = True)\n",
    "    metrics = {'p@K':p_at_k, \n",
    "               'map@k': m_at_k, \n",
    "               'ndcg@k':ndcg_at_k, \n",
    "               'auc@k':auc_at_k}\n",
    "    \n",
    "    return metrics"
   ]
  },
  {
   "cell_type": "code",
   "execution_count": 84,
   "id": "0b7092b8",
   "metadata": {},
   "outputs": [
    {
     "data": {
      "application/vnd.jupyter.widget-view+json": {
       "model_id": "25ddc52063f14d589f017f12fe6015fa",
       "version_major": 2,
       "version_minor": 0
      },
      "text/plain": [
       "  0%|          | 0/1885 [00:00<?, ?it/s]"
      ]
     },
     "metadata": {},
     "output_type": "display_data"
    },
    {
     "data": {
      "application/vnd.jupyter.widget-view+json": {
       "model_id": "0c82f069ea61481c970de03bc7ed8cf7",
       "version_major": 2,
       "version_minor": 0
      },
      "text/plain": [
       "  0%|          | 0/1885 [00:00<?, ?it/s]"
      ]
     },
     "metadata": {},
     "output_type": "display_data"
    },
    {
     "data": {
      "application/vnd.jupyter.widget-view+json": {
       "model_id": "a64a13b367624613a3e3923fd258134f",
       "version_major": 2,
       "version_minor": 0
      },
      "text/plain": [
       "  0%|          | 0/1885 [00:00<?, ?it/s]"
      ]
     },
     "metadata": {},
     "output_type": "display_data"
    },
    {
     "data": {
      "application/vnd.jupyter.widget-view+json": {
       "model_id": "9ab32987db8344129bb01a5cda7fbe2c",
       "version_major": 2,
       "version_minor": 0
      },
      "text/plain": [
       "  0%|          | 0/1885 [00:00<?, ?it/s]"
      ]
     },
     "metadata": {},
     "output_type": "display_data"
    }
   ],
   "source": [
    "metrics = model_evaluation(train, test, model)"
   ]
  },
  {
   "cell_type": "code",
   "execution_count": 85,
   "id": "01e05ae4",
   "metadata": {},
   "outputs": [
    {
     "data": {
      "text/plain": [
       "{'p@K': 0.1281985009046265,\n",
       " 'map@k': 0.05122672119736979,\n",
       " 'ndcg@k': 0.07384275923453122,\n",
       " 'auc@k': 0.5541315128824271}"
      ]
     },
     "execution_count": 85,
     "metadata": {},
     "output_type": "execute_result"
    }
   ],
   "source": [
    "metrics"
   ]
  },
  {
   "cell_type": "markdown",
   "id": "457c4410",
   "metadata": {},
   "source": [
    "* Sobre metricas de precisão @k: https://medium.com/@m_n_malaeb/recall-and-precision-at-k-for-recommender-systems-618483226c54\n",
    "* Sobre NDCG: https://towardsdatascience.com/evaluate-your-recommendation-engine-using-ndcg-759a851452d1\n",
    "* Sobre Mean Average Precision: https://towardsdatascience.com/breaking-down-mean-average-precision-map-ae462f623a52"
   ]
  },
  {
   "cell_type": "markdown",
   "id": "7eefa5c0",
   "metadata": {},
   "source": [
    "Ainda não foi realizada qualquer tunagem de hiperaparâmetros. Podemos pegar alguns valores de referencia para rodar um gridsearch"
   ]
  },
  {
   "cell_type": "markdown",
   "id": "8883a1da",
   "metadata": {},
   "source": [
    "## Funções de recomendações"
   ]
  },
  {
   "cell_type": "code",
   "execution_count": null,
   "id": "94f73ca7",
   "metadata": {
    "scrolled": true
   },
   "outputs": [],
   "source": [
    "def recommend(user):\n",
    "    \n",
    "    ''' Retorna uma lista de itens recomendados para o usuário dado de acordo com a biblioteca Implicit.\n",
    "        Também é retornado uma lista com os itens já clicados por esse usuário'''\n",
    "    \n",
    "    sparse_user_item = load_npz(\"sparse_user_item.npz\")\n",
    "    \n",
    "    with open(model_path, 'rb') as pickle_in:\n",
    "        model = pickle.load(pickle_in)\n",
    "        \n",
    "    recommended, _ = zip(*model.recommend(user, sparse_user_item))\n",
    "    \n",
    "    original_user_items = list(sparse_user_item[user_id].indices)\n",
    "\n",
    "    return recommended, original_user_items"
   ]
  },
  {
   "cell_type": "code",
   "execution_count": 159,
   "id": "fefa7a69",
   "metadata": {},
   "outputs": [],
   "source": [
    "def most_similar_items(item_id, n_similar=10):\n",
    "    '''computes the most similar items'''\n",
    "    \n",
    "    with open(model_path, 'rb') as pickle_in:\n",
    "        model = pickle.load(pickle_in)\n",
    "\n",
    "    similar, score = zip(*model.similar_items(item_id, n_similar)[1:])\n",
    "\n",
    "    return similar"
   ]
  },
  {
   "cell_type": "code",
   "execution_count": 43,
   "id": "db8f2e9f",
   "metadata": {},
   "outputs": [],
   "source": [
    "def most_similar_users(user_id, n_similar=10):\n",
    "    '''computes the most similar users'''\n",
    "    sparse_user_item = load_npz(os.getcwd()+\"/.npz/sparse_user_item.npz\")\n",
    "    \n",
    "    with open(model_path, 'rb') as pickle_in:\n",
    "        model = pickle.load(pickle_in)\n",
    "\n",
    "    similar, _ = zip(*model.similar_users(user_id, n_similar)[1:])\n",
    "\n",
    "    # original users items\n",
    "    original_user_items = list(sparse_user_item[user_id].indices)\n",
    "    \n",
    "    common_items_users = {}\n",
    "\n",
    "    # now we want to add the items that a similar user has rated\n",
    "    for user in similar:\n",
    "        # Verifica em cada usuário considerado similar quais são os itens que estes\n",
    "        # tem em comum com o usuário selecionado\n",
    "        common_items_users[user] = set(list(sparse_user_item[user].indices)) & set(original_user_items)\n",
    "    \n",
    "    # retorna usuários similares, e quais são os itens comuns correspondentes a cada um desses usuários\n",
    "    return similar, common_items_users"
   ]
  },
  {
   "cell_type": "code",
   "execution_count": null,
   "id": "446f6e8a",
   "metadata": {},
   "outputs": [],
   "source": [
    "def recalculate_user(user_ratings):\n",
    "    '''adds new user and its liked items to sparse matrix and returns recalculated recommendations\n",
    "       Receives the user clicked products vector (user_ratings)''' \n",
    "\n",
    "    alpha = 40\n",
    "    m = load_npz('sparse_user_item.npz')\n",
    "    n_users, n_movies = m.shape\n",
    "\n",
    "    ratings = [alpha for i in range(len(user_ratings))]\n",
    "\n",
    "    m.data = np.hstack((m.data, ratings))\n",
    "    m.indices = np.hstack((m.indices, user_ratings))\n",
    "    m.indptr = np.hstack((m.indptr, len(m.data)))\n",
    "    m._shape = (n_users+1, n_movies)\n",
    "\n",
    "    # recommend N items to new user\n",
    "    with open(model_path, 'rb') as pickle_in:\n",
    "        model = pickle.load(pickle_in)\n",
    "        \n",
    "    recommended, _ =  zip(*model.recommend(n_users, m, recalculate_user=True))\n",
    "    \n",
    "    return recommended"
   ]
  },
  {
   "cell_type": "markdown",
   "id": "7b67bac5",
   "metadata": {},
   "source": [
    "* A matriz m passa a ser a matriz com o novo usuário atualizado e é levada em consideração no para o cálculo de novos vetores."
   ]
  },
  {
   "cell_type": "markdown",
   "id": "a0024aac",
   "metadata": {},
   "source": [
    "Nota: \n",
    "* Após os ajustes na organização das matrizes esparsas, o modelo parece não mais repetir recomendações de itens que já foram clicados pelo usuário\n",
    "* O modelo parece também não mais necessitar de tradução dos códigos de ofertas e usuário adotados na matriz esparsa para os códigos da matriz original"
   ]
  },
  {
   "cell_type": "markdown",
   "id": "7ba37449",
   "metadata": {},
   "source": [
    "### Criação e armazenamento do dicionário código-titulo de oferta (carregado na parte de cima do código)."
   ]
  },
  {
   "cell_type": "code",
   "execution_count": 156,
   "id": "af64b4b4",
   "metadata": {},
   "outputs": [],
   "source": [
    "df_temp = clicks_de[['Offer','OfferTitle']]"
   ]
  },
  {
   "cell_type": "code",
   "execution_count": 161,
   "id": "ec0e1d78",
   "metadata": {},
   "outputs": [],
   "source": [
    "df_temp = df_temp.drop_duplicates(['Offer','OfferTitle'])"
   ]
  },
  {
   "cell_type": "code",
   "execution_count": 169,
   "id": "17c9bcdb",
   "metadata": {},
   "outputs": [],
   "source": [
    "teste_dicio = dict(zip(df_temp['Offer'], df_temp['OfferTitle']))"
   ]
  },
  {
   "cell_type": "code",
   "execution_count": 175,
   "id": "f846967d",
   "metadata": {},
   "outputs": [],
   "source": [
    "pickle.dump(offers, open('.pkl/offers.pkl', 'wb'))"
   ]
  }
 ],
 "metadata": {
  "kernelspec": {
   "display_name": "Python 3 (ipykernel)",
   "language": "python",
   "name": "python3"
  },
  "language_info": {
   "codemirror_mode": {
    "name": "ipython",
    "version": 3
   },
   "file_extension": ".py",
   "mimetype": "text/x-python",
   "name": "python",
   "nbconvert_exporter": "python",
   "pygments_lexer": "ipython3",
   "version": "3.8.12"
  }
 },
 "nbformat": 4,
 "nbformat_minor": 5
}
