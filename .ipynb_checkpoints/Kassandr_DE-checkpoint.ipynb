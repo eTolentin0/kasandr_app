{
 "cells": [
  {
   "cell_type": "markdown",
   "id": "8d4b80b0-f0f9-461e-a9b7-0aeafc0b7994",
   "metadata": {},
   "source": [
    "# Notebook para analise e uso dos dataset referente a DE (Alemanha)"
   ]
  },
  {
   "cell_type": "code",
   "execution_count": 3,
   "id": "13095506-ea6c-4102-afe0-a575f10e5601",
   "metadata": {},
   "outputs": [],
   "source": [
    "\n",
    "import numpy as np\n",
    "import scipy.stats as stats\n",
    "import csv\n",
    "import seaborn as sns\n",
    "import pandas as pd\n",
    "import re\n",
    "import matplotlib.pyplot as plt\n",
    "import unicodedata\n",
    "import random\n",
    "import requests\n",
    "import json\n",
    "import xml.etree.ElementTree as ET\n",
    "from lxml import objectify\n",
    "import xmltodict\n",
    "from googletrans import Translator\n"
   ]
  },
  {
   "cell_type": "code",
   "execution_count": 4,
   "id": "fec7b9db-2984-49ec-a204-28838e7a7537",
   "metadata": {},
   "outputs": [],
   "source": [
    "def EDA(df):\n",
    "    eda_df = {}\n",
    "    eda_df[\"Amount_NaN\"] = df.isnull().sum()\n",
    "    eda_df[\"%_NaN\"] = df.isnull().mean().round(2)\n",
    "    eda_df[\"DType\"] = df.dtypes\n",
    "    eda_df[\"Amount_Data\"] = df.count()\n",
    "\n",
    "    colunas = sorted(df.columns.tolist(), key=str.lower, reverse=False)\n",
    "    eda_df[\"Amount_Unique\"] = filtered_result = list(\n",
    "        map(lambda x: len(df[x].unique().tolist()), colunas)\n",
    "    )\n",
    "\n",
    "    eda_df[\"Mean\"] = np.round(df.mean(), 2)\n",
    "    eda_df[\"Max\"] = df.max()\n",
    "    eda_df[\"Min\"] = df.min()\n",
    "    eda_df[\"STD\"] = np.round(df.std(), 2)\n",
    "\n",
    "    return pd.DataFrame(eda_df)"
   ]
  },
  {
   "cell_type": "code",
   "execution_count": null,
   "id": "dc1a7b01-ced0-4803-ad0c-17ce36ede69e",
   "metadata": {},
   "outputs": [],
   "source": [
    "#Alemanha - carregando o xml e transformando em um dataset\n",
    "xtree = ET.parse(r'Z:\\anon_subset\\category\\correct\\de.xml')\n",
    "xroot = xtree.getroot()\n",
    "\n",
    "df_cols = ['Ancestor_ID', 'ID', 'Name']\n",
    "rows = []\n",
    "for node in xroot:\n",
    "    rows.append({'Ancestor_ID': node.attrib.get('ancestorIds'),'ID':node.attrib.get('id'),'Name': node.attrib.get('name')})\n",
    "    \n",
    "df_category_de = pd.DataFrame(rows, columns = df_cols)\n",
    "df_category_de.columns = ['Ancertor_ID', 'ID','Category_Name']\n",
    "df_category_de"
   ]
  },
  {
   "cell_type": "code",
   "execution_count": null,
   "id": "b725c8ab-2cf9-4911-b4ad-2a51a7fe09c8",
   "metadata": {},
   "outputs": [],
   "source": [
    "#carregando o dataset, usando um limitador de colunas para ele ignorar as virgulas após esse limitador\n",
    "df_clicks_de = pd.read_csv(r'Z:\\anon_subset\\Click\\Click_de.txt', usecols = range(9), lineterminator = '\\n')\n",
    "df_clicks_de"
   ]
  },
  {
   "cell_type": "code",
   "execution_count": null,
   "id": "e981c199-a4f9-4551-a5b1-ce7bfef5e1e8",
   "metadata": {},
   "outputs": [],
   "source": [
    "#fazendo uma junção dos dois dataframes\n",
    "df_teste = pd.merge(df_clicks_de, df_category_de, on=['Category'], how = 'left')\n",
    "df_teste"
   ]
  },
  {
   "cell_type": "code",
   "execution_count": null,
   "id": "8a4dd114-8567-4e95-91cb-811022ae3a17",
   "metadata": {},
   "outputs": [],
   "source": [
    "#criando uma especie de pontuação das categorias, assim conseguimos rankear pelas mais clicadas\n",
    "pontuacao_de = pd.DataFrame(df_teste['Category_Name'].value_counts()).reset_index()\n",
    "pontuacao_de.columns = ['Category_Name', 'Pontuacao']\n",
    "pontuacao_de"
   ]
  },
  {
   "cell_type": "code",
   "execution_count": null,
   "id": "4107d12a-75e9-4fae-97a8-8e08487c1552",
   "metadata": {},
   "outputs": [],
   "source": [
    "#juntando as pontuação no dataframe de categoria, substituindo os nulos por 0\n",
    "new_category_de = pd.merge(df_category_de, pontuacao_de, on='Category_Name',how='left')\n",
    "new_category_de = new_category_de.fillna(0).sort_values(by=['Pontuacao'])\n",
    "new_category_de"
   ]
  },
  {
   "cell_type": "code",
   "execution_count": null,
   "id": "77235ba2-6097-40e4-8a1a-c62bf62b0d9e",
   "metadata": {},
   "outputs": [],
   "source": []
  },
  {
   "cell_type": "markdown",
   "id": "18b0be71-90a0-4ad7-82d7-451fb644371b",
   "metadata": {},
   "source": [
    "## Uma ideia seria transformar esse new_category_de em um sistema de ranks de 5 estrelas? (como seria feito a divisão)?"
   ]
  },
  {
   "cell_type": "code",
   "execution_count": null,
   "id": "111cd05f-0d7e-45e7-b935-9e4aba5771dc",
   "metadata": {},
   "outputs": [],
   "source": [
    "df_dummie = pd.get_dummies(df_teste, columns=['Category_Name'])\n",
    "df_dummie"
   ]
  }
 ],
 "metadata": {
  "kernelspec": {
   "display_name": "Python 3",
   "language": "python",
   "name": "python3"
  },
  "language_info": {
   "codemirror_mode": {
    "name": "ipython",
    "version": 3
   },
   "file_extension": ".py",
   "mimetype": "text/x-python",
   "name": "python",
   "nbconvert_exporter": "python",
   "pygments_lexer": "ipython3",
   "version": "3.9.4"
  }
 },
 "nbformat": 4,
 "nbformat_minor": 5
}
