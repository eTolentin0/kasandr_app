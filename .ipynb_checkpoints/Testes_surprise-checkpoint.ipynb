{
 "cells": [
  {
   "cell_type": "code",
   "execution_count": 260,
   "id": "abce8da2-042b-4257-ad8f-d3c8ff8ccfd3",
   "metadata": {},
   "outputs": [],
   "source": [
    "#IMPORT DE BIBLIOTECAS\n",
    "\n",
    "from collections import defaultdict\n",
    "import pandas as pd\n",
    "import numpy as np\n",
    "import os\n",
    "\n",
    "from scipy.sparse import csr_matrix\n",
    "\n",
    "from matplotlib import pyplot as plt\n",
    "import seaborn as sns\n",
    "\n",
    "from surprise import Dataset, Reader, SVD, SVDpp\n",
    "from surprise.model_selection import train_test_split, cross_validate\n",
    "from surprise import accuracy\n",
    "from surprise.model_selection import cross_validate\n",
    "\n",
    "import pickle\n",
    "import flask"
   ]
  },
  {
   "cell_type": "code",
   "execution_count": 261,
   "id": "58844832-bd7b-4464-8dbe-4352f105e9a4",
   "metadata": {},
   "outputs": [],
   "source": [
    "df_de_cat = pd.read_csv(os.getcwd()+'\\.txt\\category_de.txt') # DataFrame Informativo das categorias"
   ]
  },
  {
   "cell_type": "code",
   "execution_count": 262,
   "id": "421a7483-741a-4482-b0b1-8bc150693e80",
   "metadata": {},
   "outputs": [],
   "source": [
    "clicks_de = pd.read_csv(os.getcwd()+'\\.txt\\clicks_de_sample_2.txt', sep = ',', header=0) # df de clicks"
   ]
  },
  {
   "cell_type": "code",
   "execution_count": 263,
   "id": "c167ea8c-e18a-4c07-8f89-0f0795e684bd",
   "metadata": {},
   "outputs": [
    {
     "data": {
      "text/html": [
       "<div>\n",
       "<style scoped>\n",
       "    .dataframe tbody tr th:only-of-type {\n",
       "        vertical-align: middle;\n",
       "    }\n",
       "\n",
       "    .dataframe tbody tr th {\n",
       "        vertical-align: top;\n",
       "    }\n",
       "\n",
       "    .dataframe thead th {\n",
       "        text-align: right;\n",
       "    }\n",
       "</style>\n",
       "<table border=\"1\" class=\"dataframe\">\n",
       "  <thead>\n",
       "    <tr style=\"text-align: right;\">\n",
       "      <th></th>\n",
       "      <th>UserId</th>\n",
       "      <th>OfferId</th>\n",
       "      <th>OfferViewId</th>\n",
       "      <th>CountryCode</th>\n",
       "      <th>Category</th>\n",
       "      <th>Source</th>\n",
       "      <th>UtcDate</th>\n",
       "      <th>Keywords</th>\n",
       "      <th>OfferTitle</th>\n",
       "    </tr>\n",
       "  </thead>\n",
       "  <tbody>\n",
       "    <tr>\n",
       "      <th>0</th>\n",
       "      <td>23d8fe04a6c1ca67e06376bacf2390f8863e86d75717b4...</td>\n",
       "      <td>8b4fbb7e4ef2dc46326861f4f42c7899</td>\n",
       "      <td>8b4fbb7e4ef2dc46326861f4f42c7899-1076982529341...</td>\n",
       "      <td>de</td>\n",
       "      <td>173701</td>\n",
       "      <td>32ff3ac0aba4118d1eb30f5eb6cc58a32c262b5eb0f7be...</td>\n",
       "      <td>2016-06-02 00:26:02.0</td>\n",
       "      <td>NaN</td>\n",
       "      <td>Nova Motors Motorroller - Grido 49ccm² 2 Takt</td>\n",
       "    </tr>\n",
       "    <tr>\n",
       "      <th>1</th>\n",
       "      <td>d0142883f669933edcd45c0219a8d47c70cb4af9c7e55f...</td>\n",
       "      <td>512bcbe2571cec88973ba348a14b415a</td>\n",
       "      <td>512bcbe2571cec88973ba348a14b415a-1076981212888...</td>\n",
       "      <td>de</td>\n",
       "      <td>115901</td>\n",
       "      <td>7ffbeedfb14f46f259001cefc4d79048ccef25b9e87207...</td>\n",
       "      <td>2016-06-02 00:08:58.0</td>\n",
       "      <td>NaN</td>\n",
       "      <td>Verbatim DVD-R 43538 bedruckbar 4.7 GB 120 Min...</td>\n",
       "    </tr>\n",
       "    <tr>\n",
       "      <th>2</th>\n",
       "      <td>e159ca09645356b420c28f1ad768719fa638d6c0607305...</td>\n",
       "      <td>92063a42b321135944b084e65ad3e878</td>\n",
       "      <td>92063a42b321135944b084e65ad3e878-1076982042361...</td>\n",
       "      <td>de</td>\n",
       "      <td>134101</td>\n",
       "      <td>978f3cfa5eec8581696bf86dfd458583ad718be08831ba...</td>\n",
       "      <td>2016-06-01 05:07:19.0</td>\n",
       "      <td>NaN</td>\n",
       "      <td>Töpfer Babycare Wind &amp; Wetter Ringelblumensalb...</td>\n",
       "    </tr>\n",
       "    <tr>\n",
       "      <th>3</th>\n",
       "      <td>73eff4a691b3a65820aaa3ecac67c431ead7b6e1cde17d...</td>\n",
       "      <td>1db789a6135cc1d6ac403c43761acf30</td>\n",
       "      <td>1db789a6135cc1d6ac403c43761acf30-1076982529341...</td>\n",
       "      <td>de</td>\n",
       "      <td>100354123</td>\n",
       "      <td>0cc5e761ab6bcf93922f3a419f96c89359a77da0e4afe8...</td>\n",
       "      <td>2016-06-01 17:09:55.0</td>\n",
       "      <td>NaN</td>\n",
       "      <td>Mitsubishi Pajero 3.2 DI-D Automatik TOP NAVI ...</td>\n",
       "    </tr>\n",
       "    <tr>\n",
       "      <th>4</th>\n",
       "      <td>c6c43b7248e5c71e9ec882a670cede6db97248da2acace...</td>\n",
       "      <td>4fdbb4f84561aa839d1f38f31bd269be</td>\n",
       "      <td>4fdbb4f84561aa839d1f38f31bd269be-1076984112859...</td>\n",
       "      <td>de</td>\n",
       "      <td>133301</td>\n",
       "      <td>978f3cfa5eec8581696bf86dfd458583ad718be08831ba...</td>\n",
       "      <td>2016-06-01 10:31:36.0</td>\n",
       "      <td>NaN</td>\n",
       "      <td>Kawando Bartöl Probierset - Bartpflege zum Testen</td>\n",
       "    </tr>\n",
       "  </tbody>\n",
       "</table>\n",
       "</div>"
      ],
      "text/plain": [
       "                                              UserId  \\\n",
       "0  23d8fe04a6c1ca67e06376bacf2390f8863e86d75717b4...   \n",
       "1  d0142883f669933edcd45c0219a8d47c70cb4af9c7e55f...   \n",
       "2  e159ca09645356b420c28f1ad768719fa638d6c0607305...   \n",
       "3  73eff4a691b3a65820aaa3ecac67c431ead7b6e1cde17d...   \n",
       "4  c6c43b7248e5c71e9ec882a670cede6db97248da2acace...   \n",
       "\n",
       "                            OfferId  \\\n",
       "0  8b4fbb7e4ef2dc46326861f4f42c7899   \n",
       "1  512bcbe2571cec88973ba348a14b415a   \n",
       "2  92063a42b321135944b084e65ad3e878   \n",
       "3  1db789a6135cc1d6ac403c43761acf30   \n",
       "4  4fdbb4f84561aa839d1f38f31bd269be   \n",
       "\n",
       "                                         OfferViewId CountryCode   Category  \\\n",
       "0  8b4fbb7e4ef2dc46326861f4f42c7899-1076982529341...          de     173701   \n",
       "1  512bcbe2571cec88973ba348a14b415a-1076981212888...          de     115901   \n",
       "2  92063a42b321135944b084e65ad3e878-1076982042361...          de     134101   \n",
       "3  1db789a6135cc1d6ac403c43761acf30-1076982529341...          de  100354123   \n",
       "4  4fdbb4f84561aa839d1f38f31bd269be-1076984112859...          de     133301   \n",
       "\n",
       "                                              Source                UtcDate  \\\n",
       "0  32ff3ac0aba4118d1eb30f5eb6cc58a32c262b5eb0f7be...  2016-06-02 00:26:02.0   \n",
       "1  7ffbeedfb14f46f259001cefc4d79048ccef25b9e87207...  2016-06-02 00:08:58.0   \n",
       "2  978f3cfa5eec8581696bf86dfd458583ad718be08831ba...  2016-06-01 05:07:19.0   \n",
       "3  0cc5e761ab6bcf93922f3a419f96c89359a77da0e4afe8...  2016-06-01 17:09:55.0   \n",
       "4  978f3cfa5eec8581696bf86dfd458583ad718be08831ba...  2016-06-01 10:31:36.0   \n",
       "\n",
       "  Keywords                                         OfferTitle  \n",
       "0      NaN      Nova Motors Motorroller - Grido 49ccm² 2 Takt  \n",
       "1      NaN  Verbatim DVD-R 43538 bedruckbar 4.7 GB 120 Min...  \n",
       "2      NaN  Töpfer Babycare Wind & Wetter Ringelblumensalb...  \n",
       "3      NaN  Mitsubishi Pajero 3.2 DI-D Automatik TOP NAVI ...  \n",
       "4      NaN  Kawando Bartöl Probierset - Bartpflege zum Testen  "
      ]
     },
     "execution_count": 263,
     "metadata": {},
     "output_type": "execute_result"
    }
   ],
   "source": [
    "clicks_de.head()"
   ]
  },
  {
   "cell_type": "code",
   "execution_count": 264,
   "id": "0a6b411c-20f2-4a5a-8570-f7998ec15d59",
   "metadata": {},
   "outputs": [],
   "source": [
    "# CRIAÇÃO DE COLUNA DE CLICKS POR CATEGORIA\n",
    "clicks_de.drop(columns = ['Keywords'], axis = 1, inplace=True)\n",
    "#clicks_de['Category'] = clicks_de['Category'].astype(str)\n",
    "\n",
    "pontuacao_de = pd.DataFrame(clicks_de['Category'].value_counts()).reset_index()\n",
    "pontuacao_de.columns = ['Category', 'Pontuacao']\n",
    "dici = dict(zip(pontuacao_de.Category, pontuacao_de.Pontuacao))\n",
    "\n",
    "clicks_de['Cat_clicks'] = clicks_de['Category'].map(dici)\n",
    "clicks_de.sort_values(by='Cat_clicks', inplace = True)"
   ]
  },
  {
   "cell_type": "code",
   "execution_count": 265,
   "id": "c93d80f0-eaad-4cc0-ab0b-b110f47486c6",
   "metadata": {},
   "outputs": [],
   "source": [
    "## RENOMEANDO OFERTAS E USUÁRIOS\n",
    "clicks_de['User'] = clicks_de['UserId'].map(dict(zip(clicks_de['UserId'].unique(), \n",
    "                                                                        range(len(clicks_de['UserId']))))) # Redefinindo indices para usuário apenas como numérico\n",
    "\n",
    "clicks_de['Offer'] = clicks_de['OfferTitle'].map(dict(zip(clicks_de['OfferTitle'].unique(), \n",
    "                                                                        range(len(clicks_de['OfferTitle']))))) #  Redefinindo indices para ofertas apenas como numérico considerando o OfferTitle"
   ]
  },
  {
   "cell_type": "code",
   "execution_count": 266,
   "id": "cae41f70-ba9e-4df6-8487-7e9ef8925640",
   "metadata": {},
   "outputs": [],
   "source": [
    "clicks_de = clicks_de.merge(df_de_cat, left_on = 'Category', right_on = 'ID').drop('ID', axis = 1) "
   ]
  },
  {
   "cell_type": "code",
   "execution_count": 267,
   "id": "3dda34bf-f6e6-4e17-a06f-b2064620739c",
   "metadata": {},
   "outputs": [],
   "source": [
    "clicks_per_user_product = clicks_de.groupby(by=['UserId','OfferId']).count()[['Name']].reset_index()"
   ]
  },
  {
   "cell_type": "code",
   "execution_count": 268,
   "id": "af43602a-b604-4f6a-bab0-a31a6fb6b7d5",
   "metadata": {},
   "outputs": [],
   "source": [
    "clicks_per_user_product['User'] = clicks_per_user_product['UserId'].map(dict(zip(clicks_per_user_product['UserId'].unique(), \n",
    "                                                                        range(len(clicks_per_user_product['UserId']))))) # Redefinindo indices para usuário apenas como numérico\n",
    "\n",
    "\n",
    "clicks_per_user_product['Offer'] = clicks_per_user_product['OfferId'].map(dict(zip(clicks_per_user_product['OfferId'].unique(), \n",
    "                                                                        range(len(clicks_per_user_product['OfferId']))))) #  Redefinindo indices para ofertas apenas como numérico considerando o OfferTitle"
   ]
  },
  {
   "cell_type": "code",
   "execution_count": 269,
   "id": "dbb151cb-58cf-4542-ae81-b89b9de91ea3",
   "metadata": {},
   "outputs": [],
   "source": [
    "clicks_de['UserClicks'] = clicks_de['UserId'].map(dict(zip(clicks_de['UserId'].value_counts().index,\n",
    "                                                           clicks_de['UserId'].value_counts().values))) #Criação de coluna com nº total de cliques do usuário"
   ]
  },
  {
   "cell_type": "code",
   "execution_count": 270,
   "id": "759a06f2-5628-49c2-8ef6-89ff50307207",
   "metadata": {},
   "outputs": [],
   "source": [
    "#Cap minimo de clicks para integrar o sistema de recomendação\n",
    "clicks_de_filtered = clicks_de[(clicks_de.UserClicks > 40)]\n",
    "\n",
    "#DataFrame de base para utilização no Surprise\n",
    "user_item_clicks = clicks_de_filtered[['User','Offer','UserClicks']]"
   ]
  },
  {
   "cell_type": "code",
   "execution_count": 271,
   "id": "81ee4700-9944-4a7d-a22d-f118f1e7dbfe",
   "metadata": {},
   "outputs": [
    {
     "data": {
      "text/html": [
       "<div>\n",
       "<style scoped>\n",
       "    .dataframe tbody tr th:only-of-type {\n",
       "        vertical-align: middle;\n",
       "    }\n",
       "\n",
       "    .dataframe tbody tr th {\n",
       "        vertical-align: top;\n",
       "    }\n",
       "\n",
       "    .dataframe thead th {\n",
       "        text-align: right;\n",
       "    }\n",
       "</style>\n",
       "<table border=\"1\" class=\"dataframe\">\n",
       "  <thead>\n",
       "    <tr style=\"text-align: right;\">\n",
       "      <th></th>\n",
       "      <th>User</th>\n",
       "      <th>Offer</th>\n",
       "      <th>UserClicks</th>\n",
       "    </tr>\n",
       "  </thead>\n",
       "  <tbody>\n",
       "    <tr>\n",
       "      <th>0</th>\n",
       "      <td>249</td>\n",
       "      <td>83</td>\n",
       "      <td>1</td>\n",
       "    </tr>\n",
       "    <tr>\n",
       "      <th>1</th>\n",
       "      <td>249</td>\n",
       "      <td>3481</td>\n",
       "      <td>1</td>\n",
       "    </tr>\n",
       "    <tr>\n",
       "      <th>2</th>\n",
       "      <td>249</td>\n",
       "      <td>7628</td>\n",
       "      <td>1</td>\n",
       "    </tr>\n",
       "    <tr>\n",
       "      <th>3</th>\n",
       "      <td>249</td>\n",
       "      <td>7708</td>\n",
       "      <td>1</td>\n",
       "    </tr>\n",
       "    <tr>\n",
       "      <th>4</th>\n",
       "      <td>249</td>\n",
       "      <td>9575</td>\n",
       "      <td>1</td>\n",
       "    </tr>\n",
       "  </tbody>\n",
       "</table>\n",
       "</div>"
      ],
      "text/plain": [
       "   User  Offer  UserClicks\n",
       "0   249     83           1\n",
       "1   249   3481           1\n",
       "2   249   7628           1\n",
       "3   249   7708           1\n",
       "4   249   9575           1"
      ]
     },
     "metadata": {},
     "output_type": "display_data"
    }
   ],
   "source": [
    "log = user_item_clicks.groupby(by=['User','Offer']).count().reset_index()\n",
    "log['UserClicks'] = 1\n",
    "display(log.head())"
   ]
  },
  {
   "cell_type": "code",
   "execution_count": 12,
   "id": "c3299673-4d74-49d0-b77c-470baec538be",
   "metadata": {},
   "outputs": [],
   "source": [
    "#Matriz esparsa\n",
    "pivo_log = log.pivot_table(columns = 'Offer', index = 'User', values = 'UserClicks').fillna(0)"
   ]
  },
  {
   "cell_type": "code",
   "execution_count": 13,
   "id": "2dd3b2eb-89b6-481b-a2a9-0ceba73a63cd",
   "metadata": {},
   "outputs": [],
   "source": [
    "#Nova relação de clicks em cada produto por usuário a partir da matriz esparsa para uso no Surprise\n",
    "pivo_log_melted = pd.melt(frame = pivo_log, var_name = 'Products', value_name = 'Clicked?', ignore_index = False).reset_index()"
   ]
  },
  {
   "cell_type": "markdown",
   "id": "5cbbcf6a-a894-4284-989d-f2f3870680c7",
   "metadata": {},
   "source": [
    "## TESTES SURPRISE"
   ]
  },
  {
   "cell_type": "code",
   "execution_count": 15,
   "id": "9f5bd521-fe97-4da6-9db3-35d9283ab39f",
   "metadata": {},
   "outputs": [],
   "source": [
    "#Escala de avaliação\n",
    "reader = Reader(rating_scale = (0,1))\n",
    "\n",
    "#Criação de objeto Dataset do Surprise\n",
    "data = Dataset.load_from_df(df = pivo_log_melted, reader=reader)"
   ]
  },
  {
   "cell_type": "code",
   "execution_count": 79,
   "id": "cceec2f4-08c9-4b1f-96c0-9dfe09500cf4",
   "metadata": {},
   "outputs": [],
   "source": [
    "#Criação do modelo e teste por validação cruzada\n",
    "svd = SVD() # Falta otimização de parametros e testagem de outros modelos\n",
    "cross_validate(svd, data, measures = ['RMSE','MAE'], cv = 5)"
   ]
  },
  {
   "cell_type": "code",
   "execution_count": 80,
   "id": "1e3e8a84-ffbd-4f63-8578-0139dc395fe3",
   "metadata": {
    "scrolled": true,
    "tags": []
   },
   "outputs": [
    {
     "data": {
      "text/plain": [
       "{'test_rmse': array([0.13410884, 0.13147261, 0.13026821, 0.13226135, 0.13404056]),\n",
       " 'test_mae': array([0.03655328, 0.03604339, 0.03574242, 0.03631242, 0.03567607]),\n",
       " 'fit_time': (10.09976577758789,\n",
       "  10.098920106887817,\n",
       "  10.156632900238037,\n",
       "  10.116280794143677,\n",
       "  10.137130498886108),\n",
       " 'test_time': (0.3370988368988037,\n",
       "  0.4418525695800781,\n",
       "  0.4474148750305176,\n",
       "  0.44689202308654785,\n",
       "  0.32556772232055664)}"
      ]
     },
     "execution_count": 80,
     "metadata": {},
     "output_type": "execute_result"
    }
   ],
   "source": [
    "svdpp = SVDpp() # Falta otimização de parametros e testagem de outros modelos\n",
    "cross_validate(svd, data, measures = ['RMSE','MAE'], cv = 5)"
   ]
  },
  {
   "cell_type": "code",
   "execution_count": 85,
   "id": "3d3ba085-ca36-4746-82ef-61cfb5fbfc18",
   "metadata": {},
   "outputs": [
    {
     "data": {
      "text/plain": [
       "<surprise.prediction_algorithms.matrix_factorization.SVD at 0x1b3581cfb50>"
      ]
     },
     "execution_count": 85,
     "metadata": {},
     "output_type": "execute_result"
    }
   ],
   "source": [
    "#Criação do set de treino com o dataset completo\n",
    "trainsetfull = data.build_full_trainset()\n",
    "\n",
    "#Fit do modelo com o set de treino\n",
    "svd.fit(trainsetfull)\n",
    "svdpp.fit(trainsetfull)"
   ]
  },
  {
   "cell_type": "code",
   "execution_count": 86,
   "id": "9f577442-7099-4172-aa7f-a13a73a98786",
   "metadata": {},
   "outputs": [
    {
     "data": {
      "text/plain": [
       "<surprise.prediction_algorithms.matrix_factorization.SVDpp at 0x1b3581cd570>"
      ]
     },
     "execution_count": 86,
     "metadata": {},
     "output_type": "execute_result"
    }
   ],
   "source": [
    "svdpp.fit(trainsetfull)"
   ]
  },
  {
   "cell_type": "code",
   "execution_count": 147,
   "id": "2e72cefb-634f-4ea7-8c65-588dc1be60d7",
   "metadata": {},
   "outputs": [
    {
     "data": {
      "text/html": [
       "<div>\n",
       "<style scoped>\n",
       "    .dataframe tbody tr th:only-of-type {\n",
       "        vertical-align: middle;\n",
       "    }\n",
       "\n",
       "    .dataframe tbody tr th {\n",
       "        vertical-align: top;\n",
       "    }\n",
       "\n",
       "    .dataframe thead th {\n",
       "        text-align: right;\n",
       "    }\n",
       "</style>\n",
       "<table border=\"1\" class=\"dataframe\">\n",
       "  <thead>\n",
       "    <tr style=\"text-align: right;\">\n",
       "      <th></th>\n",
       "      <th>User</th>\n",
       "      <th>Products</th>\n",
       "      <th>Clicked?</th>\n",
       "    </tr>\n",
       "  </thead>\n",
       "  <tbody>\n",
       "    <tr>\n",
       "      <th>0</th>\n",
       "      <td>249</td>\n",
       "      <td>83</td>\n",
       "      <td>1.0</td>\n",
       "    </tr>\n",
       "    <tr>\n",
       "      <th>1</th>\n",
       "      <td>362</td>\n",
       "      <td>83</td>\n",
       "      <td>0.0</td>\n",
       "    </tr>\n",
       "    <tr>\n",
       "      <th>2</th>\n",
       "      <td>567</td>\n",
       "      <td>83</td>\n",
       "      <td>0.0</td>\n",
       "    </tr>\n",
       "    <tr>\n",
       "      <th>3</th>\n",
       "      <td>815</td>\n",
       "      <td>83</td>\n",
       "      <td>0.0</td>\n",
       "    </tr>\n",
       "    <tr>\n",
       "      <th>4</th>\n",
       "      <td>919</td>\n",
       "      <td>83</td>\n",
       "      <td>0.0</td>\n",
       "    </tr>\n",
       "    <tr>\n",
       "      <th>...</th>\n",
       "      <td>...</td>\n",
       "      <td>...</td>\n",
       "      <td>...</td>\n",
       "    </tr>\n",
       "    <tr>\n",
       "      <th>195635</th>\n",
       "      <td>293680</td>\n",
       "      <td>292597</td>\n",
       "      <td>0.0</td>\n",
       "    </tr>\n",
       "    <tr>\n",
       "      <th>195636</th>\n",
       "      <td>342625</td>\n",
       "      <td>292597</td>\n",
       "      <td>0.0</td>\n",
       "    </tr>\n",
       "    <tr>\n",
       "      <th>195637</th>\n",
       "      <td>398935</td>\n",
       "      <td>292597</td>\n",
       "      <td>1.0</td>\n",
       "    </tr>\n",
       "    <tr>\n",
       "      <th>195638</th>\n",
       "      <td>398983</td>\n",
       "      <td>292597</td>\n",
       "      <td>0.0</td>\n",
       "    </tr>\n",
       "    <tr>\n",
       "      <th>195639</th>\n",
       "      <td>399566</td>\n",
       "      <td>292597</td>\n",
       "      <td>0.0</td>\n",
       "    </tr>\n",
       "  </tbody>\n",
       "</table>\n",
       "<p>195640 rows × 3 columns</p>\n",
       "</div>"
      ],
      "text/plain": [
       "          User  Products  Clicked?\n",
       "0          249        83       1.0\n",
       "1          362        83       0.0\n",
       "2          567        83       0.0\n",
       "3          815        83       0.0\n",
       "4          919        83       0.0\n",
       "...        ...       ...       ...\n",
       "195635  293680    292597       0.0\n",
       "195636  342625    292597       0.0\n",
       "195637  398935    292597       1.0\n",
       "195638  398983    292597       0.0\n",
       "195639  399566    292597       0.0\n",
       "\n",
       "[195640 rows x 3 columns]"
      ]
     },
     "execution_count": 147,
     "metadata": {},
     "output_type": "execute_result"
    }
   ],
   "source": [
    "#Fetch de informação de usuários pra teste\n",
    "pivo_log_melted"
   ]
  },
  {
   "cell_type": "code",
   "execution_count": 90,
   "id": "2292f2f7-cf8d-48d5-bac5-050972332697",
   "metadata": {},
   "outputs": [],
   "source": [
    "#Teste de predição com usuário específico frente a um produto específico\n",
    "prediction = svdpp.predict(uid = 815, iid = 282283)"
   ]
  },
  {
   "cell_type": "code",
   "execution_count": 91,
   "id": "9e1f5126-c337-40b4-b60e-73f0a6a6e8ad",
   "metadata": {},
   "outputs": [
    {
     "data": {
      "text/plain": [
       "Prediction(uid=815, iid=282283, r_ui=None, est=0.15451328087152685, details={'was_impossible': False})"
      ]
     },
     "execution_count": 91,
     "metadata": {},
     "output_type": "execute_result"
    }
   ],
   "source": [
    "prediction"
   ]
  },
  {
   "cell_type": "markdown",
   "id": "7f09e33b-7f92-49e7-a5f6-19b335a2a8a2",
   "metadata": {},
   "source": [
    "# FUNÇÃO DE RECOMENDAÇÕES"
   ]
  },
  {
   "cell_type": "code",
   "execution_count": 181,
   "id": "a1c11a77-c4f1-46bb-9f12-543861d41990",
   "metadata": {},
   "outputs": [],
   "source": [
    "###########TESTES###############\n",
    "#np.nonzero(pivo_log_melted[pivo_log_melted['User']==user_id]['Clicked?'].to_numpy() == 0)\n",
    "list_of_unclicked_items = pivo_log_melted[(pivo_log_melted['User']==293680) & (pivo_log_melted['Clicked?']==0)]['Products']\n",
    "#user_set = [[249, item_id, 0] for item_id in list_of_unclicked_items]"
   ]
  },
  {
   "cell_type": "code",
   "execution_count": 183,
   "id": "77149f5b-bb39-42ac-af96-a91654a3a275",
   "metadata": {},
   "outputs": [
    {
     "data": {
      "text/plain": [
       "68        Black Magic Design - Intensity Pro Video PCIe ...\n",
       "141       BIOMARIS GmbH & Co. KG BIOMARIS SUPER RICH M PARF\n",
       "214           X4-TECH Kinder CD-Player Bobby Joey inkl. MP3\n",
       "287       X4-TECH Kinder CD-Player Bobby Joey mit Anti-S...\n",
       "360               Happy Lola Sexy Pasties Mix Pack - 8 Stk.\n",
       "                                ...                        \n",
       "195343    Opel Zafira Tourer 1.8 SELECTION - Business Paket\n",
       "195416    Volkswagen Golf V Tour ALU BRE ZAHNr KD TÜV NE...\n",
       "195489    Opel Insignia 1.4 T ST XENON KAMERA NAVI AGR O...\n",
       "195562      Ford Granada 2.8 Ghia *Klimaanlage - AutomatiK*\n",
       "195635    Mercedes-Benz CLS 500 Shooting Brake 4M BE AMG...\n",
       "Name: Products, Length: 2652, dtype: object"
      ]
     },
     "execution_count": 183,
     "metadata": {},
     "output_type": "execute_result"
    }
   ],
   "source": [
    "list_of_unclicked_items.map(offer_title)"
   ]
  },
  {
   "cell_type": "code",
   "execution_count": 251,
   "id": "5ae5b655-dd37-4d3f-88aa-282c0895c622",
   "metadata": {},
   "outputs": [],
   "source": [
    "##Função que retorna as top-N recomendações para cada usuário de um conjunto de predições\n",
    "\n",
    "def recommendations_from_SVDpp(user_id, pivo_log, algo, n_recommendations):\n",
    "    \n",
    "    # determine list of unseen itemns by user_id\n",
    "    list_of_unclicked_items = pivo_log[(pivo_log['User']==user_id) & (pivo_log['Clicked?']==0)]['Products']\n",
    "    \n",
    "    # set up user set with unrated movies\n",
    "    user_set = [[user_id, item_id, 0] for item_id in list_of_unclicked_items]\n",
    "    \n",
    "    # generate predictions\n",
    "    predictions = algo.test(user_set)\n",
    "\n",
    "    top_n_recommendations = defaultdict(list)\n",
    "    \n",
    "    for user_id, item_id, _, est, _ in predictions:\n",
    "\n",
    "        top_n_recommendations[user_id].append((item_id, est))\n",
    "\n",
    "        \n",
    "    for user_id, ratings in top_n_recommendations.items():\n",
    "\n",
    "        ratings.sort(key=lambda x: x[1], reverse=True)\n",
    "\n",
    "        top_n_recommendations[user_id] = ratings[:n_recommendations]\n",
    "\n",
    "\n",
    "    count = 0\n",
    "\n",
    "    print(\"Recommendations for user with id {}: \".format(user_id))\n",
    "\n",
    "    message = ''\n",
    "\n",
    "    for item_index, score in top_n_recommendations[user_id]: \n",
    "\n",
    "        count +=1\n",
    "\n",
    "        message += (str(count)+'. '+str(offer_title[item_index])+' predicted rating = '+str(round(score,3)))\n",
    "        message +='\\n'\n",
    "\n",
    "    return message"
   ]
  },
  {
   "cell_type": "code",
   "execution_count": 252,
   "id": "e9bcd36b-bfe2-411d-9570-5ae568c7a7f0",
   "metadata": {},
   "outputs": [
    {
     "name": "stdout",
     "output_type": "stream",
     "text": [
      "Recommendations for user with id 293680: \n"
     ]
    },
    {
     "data": {
      "text/plain": [
       "'1. Renault Laguna II Exception predicted rating = 0.209\\n2. Seat Leon Cupra R 2.0 T FSI Navi predicted rating = 0.195\\n3. Audi Q5 2.0 TDI QUATTRO LEDER NAVI+ XENON+ predicted rating = 0.195\\n4. Subaru WRX STI Sport TOP neuwertig predicted rating = 0.194\\n5. Mercedes-Benz A 140 KLIMAANLAGE predicted rating = 0.19\\n'"
      ]
     },
     "execution_count": 252,
     "metadata": {},
     "output_type": "execute_result"
    }
   ],
   "source": [
    "recommendations_from_SVDpp(293680, pivo_log_melted, svdpp, 5)"
   ]
  },
  {
   "cell_type": "code",
   "execution_count": 188,
   "id": "f871704b-13dd-4eb7-b5e5-32dfe51f55cc",
   "metadata": {},
   "outputs": [
    {
     "name": "stdout",
     "output_type": "stream",
     "text": [
      "Recommendations for user with id 293680: \n",
      "1. Renault Laguna II Exception, predicted rating = 0.212\n",
      "2. Seat Leon Cupra R 2.0 T FSI Navi, predicted rating = 0.198\n",
      "3. Audi Q5 2.0 TDI QUATTRO LEDER NAVI+ XENON+, predicted rating = 0.196\n",
      "4. Mercedes-Benz A 140 KLIMAANLAGE, predicted rating = 0.192\n",
      "5. Subaru WRX STI Sport TOP neuwertig, predicted rating = 0.188\n"
     ]
    }
   ],
   "source": [
    "recommendations_from_SVDpp(293680, pivo_log_melted, svd, 5)"
   ]
  },
  {
   "cell_type": "code",
   "execution_count": 180,
   "id": "2cd2d4c3-dea0-4f7f-9367-459df6651739",
   "metadata": {
    "scrolled": true,
    "tags": []
   },
   "outputs": [
    {
     "data": {
      "text/plain": [
       "array(['Samsung Galaxy S5 mini blau', 'Samsung Galaxy S III Neo blau',\n",
       "       'Samsung Galaxy S6 edge Schwarz 64 GB',\n",
       "       'Samsung Galaxy S3 Neo I9301 Onyx Black',\n",
       "       'Samsung Galaxy S5 mini weiÃŸ', 'Samsung Galaxy S III Neo weiÃŸ',\n",
       "       'Samsung Galaxy S5 Weiß 16GB', 'Samsung Galaxy S5 mini schwarz',\n",
       "       'Samsung Galaxy Note 4 N910F 32GB Charcoal Black',\n",
       "       'Samsung Galaxy A5 WeiÃŸ', 'Huawei P8lite schwarz',\n",
       "       'Samsung Galaxy S7 Edge 32 GB Schwarz',\n",
       "       'Apple iPhone 5s 32 GB Silber', 'Samsung Galaxy S5 neo Schwarz',\n",
       "       'Samsung Galaxy S5 mini SM-G800F Shimmery-White',\n",
       "       'Samsung Galaxy S3 Neo I9301 Metallic Blue',\n",
       "       'simvalley Mobile Premium-Notruf-Handy XL-959 mit Dual-SIM Vertragsfrei',\n",
       "       'Samsung Galaxy S5 Neo gold', 'Nokia 215 Dual SIM White',\n",
       "       'Samsung Galaxy S5 mini SM-G800F Charcoal-Black',\n",
       "       'Samsung Galaxy S7 Edge SM-G935F 32GB Black Onyx',\n",
       "       'iPhone 5s gebraucht - simlockfrei Gold 16GB Zustand C',\n",
       "       'Samsung Galaxy S3 Neo ceramic white',\n",
       "       'iPhone 5s 32gb gold Gold 32GB Zustand B',\n",
       "       'iPhone 5s gebraucht - simlockfrei Silber 16GB Zustand C',\n",
       "       'iPhone 5s 16gb gold Gold 16GB Zustand A',\n",
       "       'Sony Xperia Z3 Compact weiß',\n",
       "       'iPhone 5c 32gb weiss Weiss 32GB Zustand A'], dtype=object)"
      ]
     },
     "execution_count": 180,
     "metadata": {},
     "output_type": "execute_result"
    }
   ],
   "source": [
    "pivo_log_melted[(pivo_log_melted['User']==293680) & pivo_log_melted['Clicked?']==1]['Products'].map(offer_title).values"
   ]
  },
  {
   "cell_type": "code",
   "execution_count": null,
   "id": "f62e19aa-cf55-4005-bc9d-81b7701a142c",
   "metadata": {},
   "outputs": [],
   "source": [
    "# Than predict ratings for all pairs (u, i) that are NOT in the training set.\n",
    "testset = trainset.build_anti_testset()\n",
    "predictions = algo.test(testset)\n",
    "\n",
    "top_n = get_top_n(predictions, n=10)\n",
    "\n",
    "# Print the recommended items for each user\n",
    "for uid, user_ratings in top_n.items():\n",
    "    print(uid, [iid for (iid, _) in user_ratings])\n"
   ]
  },
  {
   "cell_type": "markdown",
   "id": "f87ae94e-e507-4f85-9638-f6d4a49425a0",
   "metadata": {},
   "source": [
    "An item is considered relevant if its true rating rui is greater than a given threshold. An item is considered recommended if its estimated rating r^ui is greater than the threshold, and if it is among the k highest estimated ratings."
   ]
  },
  {
   "cell_type": "code",
   "execution_count": null,
   "id": "846e9ce0-5f3f-4bc8-bee7-060a9c83d5db",
   "metadata": {},
   "outputs": [],
   "source": [
    "def precision_recall_at_k(predictions, k=10, threshold=0.5):\n",
    "    \"\"\"Return precision and recall at k metrics for each user\"\"\"\n",
    "\n",
    "    # First map the predictions to each user.\n",
    "    user_est_true = defaultdict(list)\n",
    "    for uid, _, true_r, est, _ in predictions:\n",
    "        user_est_true[uid].append((est, true_r))\n",
    "\n",
    "    precisions = dict()\n",
    "    recalls = dict()\n",
    "    for uid, user_ratings in user_est_true.items():\n",
    "\n",
    "        # Sort user ratings by estimated value\n",
    "        user_ratings.sort(key=lambda x: x[0], reverse=True)\n",
    "\n",
    "        # Number of relevant items\n",
    "        n_rel = sum((true_r >= threshold) for (_, true_r) in user_ratings)\n",
    "\n",
    "        # Number of recommended items in top k\n",
    "        n_rec_k = sum((est >= threshold) for (est, _) in user_ratings[:k])\n",
    "\n",
    "        # Number of relevant and recommended items in top k\n",
    "        n_rel_and_rec_k = sum(((true_r >= threshold) and (est >= threshold))\n",
    "                              for (est, true_r) in user_ratings[:k])\n",
    "\n",
    "        # Precision@K: Proportion of recommended items that are relevant\n",
    "        # When n_rec_k is 0, Precision is undefined. We here set it to 0.\n",
    "\n",
    "        precisions[uid] = n_rel_and_rec_k / n_rec_k if n_rec_k != 0 else 0\n",
    "\n",
    "        # Recall@K: Proportion of relevant items that are recommended\n",
    "        # When n_rel is 0, Recall is undefined. We here set it to 0.\n",
    "\n",
    "        recalls[uid] = n_rel_and_rec_k / n_rel if n_rel != 0 else 0\n",
    "\n",
    "    return precisions, recalls"
   ]
  },
  {
   "cell_type": "code",
   "execution_count": 159,
   "id": "819620f9-53b4-4f12-be83-ae5a573f5e86",
   "metadata": {},
   "outputs": [],
   "source": [
    "#Dicionário de ofertas\n",
    "offer_title = dict(zip(clicks_de_filtered['Offer'].unique(), clicks_de_filtered['OfferTitle'].unique())) #Criação do dicionário que relaciona o nome da oferta (OfferTitle) com o código #Offer para tradução da recomendação dada"
   ]
  },
  {
   "cell_type": "markdown",
   "id": "139ce59c-db24-4859-abc8-32225d08763d",
   "metadata": {},
   "source": [
    "### Salvar os modelos"
   ]
  },
  {
   "cell_type": "code",
   "execution_count": 246,
   "id": "9b4c60cf-8663-46be-bf83-7fda0878b781",
   "metadata": {},
   "outputs": [],
   "source": [
    "pickle.dump(svd, open(os.getcwd()+'\\.pkl\\svd.pkl', 'wb'))\n",
    "pickle.dump(svdpp, open(os.getcwd()+'\\.pkl\\svdpp.pkl', 'wb'))"
   ]
  },
  {
   "cell_type": "code",
   "execution_count": null,
   "id": "23565d77-78c0-4dd3-bfd4-0967f10a0b21",
   "metadata": {},
   "outputs": [],
   "source": [
    "#Adicionar coluna de Categorias\n",
    "offer_category = clicks_de[['Offer','Category']].drop_duplicates(subset = 'Offer')\n",
    "offer_category = dict(zip(offer_category.Offer, offer_category.Category))\n",
    "\n",
    "pivo_log_melted['Category'] = pivo_log_melted.Products.map(offer_category)\n",
    "pivo_log_melted"
   ]
  },
  {
   "cell_type": "code",
   "execution_count": 280,
   "id": "859d36d4-a978-495d-a45b-8a59ad89bcb0",
   "metadata": {},
   "outputs": [],
   "source": [
    "pivo_log_melted.to_csv(os.getcwd()+'sparse_melt2.csv', index = False)"
   ]
  },
  {
   "cell_type": "code",
   "execution_count": 247,
   "id": "16a893c8-dc60-4ca1-9222-1572acb29c77",
   "metadata": {},
   "outputs": [],
   "source": [
    "model = pickle.load(open(os.getcwd()+'\\.pkl\\svdpp.pkl', \n",
    "                         'rb'))"
   ]
  },
  {
   "cell_type": "code",
   "execution_count": 198,
   "id": "1bb674ec-7975-4714-ad8d-705e0ba3e8c8",
   "metadata": {},
   "outputs": [],
   "source": [
    "import json"
   ]
  },
  {
   "cell_type": "code",
   "execution_count": 206,
   "id": "bb9f0ff2-2173-4262-b6d5-6e92156a7cf8",
   "metadata": {},
   "outputs": [],
   "source": [
    "#json.dump(offer_title, open('Ofertas.json', 'w'))\n",
    "d = {int(k): v for k, v in offer_title.items()}"
   ]
  },
  {
   "cell_type": "code",
   "execution_count": 249,
   "id": "d8730dac-6492-4808-93ed-3a865e59c4ab",
   "metadata": {},
   "outputs": [],
   "source": [
    "pickle.dump(offer_title, open(os.getcwd()+\"\\offers.pkl\", \"wb\"))"
   ]
  },
  {
   "cell_type": "code",
   "execution_count": 248,
   "id": "16fe70bb-cce1-4d57-84a8-27ed14d4025c",
   "metadata": {},
   "outputs": [],
   "source": [
    "output = pickle.load(open(os.getcwd()+'/.pkl/offers.pkl', 'rb'))"
   ]
  },
  {
   "cell_type": "code",
   "execution_count": 255,
   "id": "e2a5db7f-45e4-4504-8a1d-03d3c3cb20e5",
   "metadata": {},
   "outputs": [
    {
     "data": {
      "text/html": [
       "<div>\n",
       "<style scoped>\n",
       "    .dataframe tbody tr th:only-of-type {\n",
       "        vertical-align: middle;\n",
       "    }\n",
       "\n",
       "    .dataframe tbody tr th {\n",
       "        vertical-align: top;\n",
       "    }\n",
       "\n",
       "    .dataframe thead th {\n",
       "        text-align: right;\n",
       "    }\n",
       "</style>\n",
       "<table border=\"1\" class=\"dataframe\">\n",
       "  <thead>\n",
       "    <tr style=\"text-align: right;\">\n",
       "      <th></th>\n",
       "      <th>User</th>\n",
       "      <th>Products</th>\n",
       "      <th>Clicked?</th>\n",
       "    </tr>\n",
       "  </thead>\n",
       "  <tbody>\n",
       "    <tr>\n",
       "      <th>0</th>\n",
       "      <td>249</td>\n",
       "      <td>83</td>\n",
       "      <td>1.0</td>\n",
       "    </tr>\n",
       "    <tr>\n",
       "      <th>1</th>\n",
       "      <td>362</td>\n",
       "      <td>83</td>\n",
       "      <td>0.0</td>\n",
       "    </tr>\n",
       "    <tr>\n",
       "      <th>2</th>\n",
       "      <td>567</td>\n",
       "      <td>83</td>\n",
       "      <td>0.0</td>\n",
       "    </tr>\n",
       "    <tr>\n",
       "      <th>3</th>\n",
       "      <td>815</td>\n",
       "      <td>83</td>\n",
       "      <td>0.0</td>\n",
       "    </tr>\n",
       "    <tr>\n",
       "      <th>4</th>\n",
       "      <td>919</td>\n",
       "      <td>83</td>\n",
       "      <td>0.0</td>\n",
       "    </tr>\n",
       "    <tr>\n",
       "      <th>...</th>\n",
       "      <td>...</td>\n",
       "      <td>...</td>\n",
       "      <td>...</td>\n",
       "    </tr>\n",
       "    <tr>\n",
       "      <th>195635</th>\n",
       "      <td>293680</td>\n",
       "      <td>292597</td>\n",
       "      <td>0.0</td>\n",
       "    </tr>\n",
       "    <tr>\n",
       "      <th>195636</th>\n",
       "      <td>342625</td>\n",
       "      <td>292597</td>\n",
       "      <td>0.0</td>\n",
       "    </tr>\n",
       "    <tr>\n",
       "      <th>195637</th>\n",
       "      <td>398935</td>\n",
       "      <td>292597</td>\n",
       "      <td>1.0</td>\n",
       "    </tr>\n",
       "    <tr>\n",
       "      <th>195638</th>\n",
       "      <td>398983</td>\n",
       "      <td>292597</td>\n",
       "      <td>0.0</td>\n",
       "    </tr>\n",
       "    <tr>\n",
       "      <th>195639</th>\n",
       "      <td>399566</td>\n",
       "      <td>292597</td>\n",
       "      <td>0.0</td>\n",
       "    </tr>\n",
       "  </tbody>\n",
       "</table>\n",
       "<p>195640 rows × 3 columns</p>\n",
       "</div>"
      ],
      "text/plain": [
       "          User  Products  Clicked?\n",
       "0          249        83       1.0\n",
       "1          362        83       0.0\n",
       "2          567        83       0.0\n",
       "3          815        83       0.0\n",
       "4          919        83       0.0\n",
       "...        ...       ...       ...\n",
       "195635  293680    292597       0.0\n",
       "195636  342625    292597       0.0\n",
       "195637  398935    292597       1.0\n",
       "195638  398983    292597       0.0\n",
       "195639  399566    292597       0.0\n",
       "\n",
       "[195640 rows x 3 columns]"
      ]
     },
     "execution_count": 255,
     "metadata": {},
     "output_type": "execute_result"
    }
   ],
   "source": [
    "pd.read_csv('sparse_melt.csv', header = 0)"
   ]
  },
  {
   "cell_type": "code",
   "execution_count": 273,
   "id": "6c4189d1-52c0-4180-81ce-2c9abb4f0578",
   "metadata": {},
   "outputs": [
    {
     "data": {
      "text/html": [
       "<div>\n",
       "<style scoped>\n",
       "    .dataframe tbody tr th:only-of-type {\n",
       "        vertical-align: middle;\n",
       "    }\n",
       "\n",
       "    .dataframe tbody tr th {\n",
       "        vertical-align: top;\n",
       "    }\n",
       "\n",
       "    .dataframe thead th {\n",
       "        text-align: right;\n",
       "    }\n",
       "</style>\n",
       "<table border=\"1\" class=\"dataframe\">\n",
       "  <thead>\n",
       "    <tr style=\"text-align: right;\">\n",
       "      <th></th>\n",
       "      <th>UserId</th>\n",
       "      <th>OfferId</th>\n",
       "      <th>OfferViewId</th>\n",
       "      <th>CountryCode</th>\n",
       "      <th>Category</th>\n",
       "      <th>Source</th>\n",
       "      <th>UtcDate</th>\n",
       "      <th>OfferTitle</th>\n",
       "      <th>Cat_clicks</th>\n",
       "      <th>User</th>\n",
       "      <th>Offer</th>\n",
       "      <th>Ancestor_ID</th>\n",
       "      <th>Name</th>\n",
       "      <th>UserClicks</th>\n",
       "    </tr>\n",
       "  </thead>\n",
       "  <tbody>\n",
       "    <tr>\n",
       "      <th>0</th>\n",
       "      <td>d37a4e15a65cb9e6b2a5c3bd6b109c2cbb8ea28ea0e249...</td>\n",
       "      <td>874006e61139f2b56ba21a46fe554753</td>\n",
       "      <td>874006e61139f2b56ba21a46fe554753-1076982502353...</td>\n",
       "      <td>de</td>\n",
       "      <td>128101</td>\n",
       "      <td>f7151fb3a6269230dcaa048646568c53ad69ab3b3d24ae...</td>\n",
       "      <td>2016-06-01 13:24:13.0</td>\n",
       "      <td>Buch - Süßer die Glocken...</td>\n",
       "      <td>3</td>\n",
       "      <td>0</td>\n",
       "      <td>0</td>\n",
       "      <td>128101 128001 100346123 601</td>\n",
       "      <td>Erotikliteratur</td>\n",
       "      <td>1</td>\n",
       "    </tr>\n",
       "    <tr>\n",
       "      <th>1</th>\n",
       "      <td>67d65125918799e0cb955526f8245b633c13729f20644d...</td>\n",
       "      <td>568777b0316aafe2b858d9a10e9ead28</td>\n",
       "      <td>568777b0316aafe2b858d9a10e9ead28-1076982502353...</td>\n",
       "      <td>de</td>\n",
       "      <td>128101</td>\n",
       "      <td>f7151fb3a6269230dcaa048646568c53ad69ab3b3d24ae...</td>\n",
       "      <td>2016-06-01 03:32:14.0</td>\n",
       "      <td>Buch - Shades of Grey 1 - Geheimes Verlangen</td>\n",
       "      <td>3</td>\n",
       "      <td>1</td>\n",
       "      <td>1</td>\n",
       "      <td>128101 128001 100346123 601</td>\n",
       "      <td>Erotikliteratur</td>\n",
       "      <td>1</td>\n",
       "    </tr>\n",
       "    <tr>\n",
       "      <th>2</th>\n",
       "      <td>7ff9936d1bc8fd24ff1e7333e0ff0b70b5214a949f3aa3...</td>\n",
       "      <td>874006e61139f2b56ba21a46fe554753</td>\n",
       "      <td>874006e61139f2b56ba21a46fe554753-1076982502353...</td>\n",
       "      <td>de</td>\n",
       "      <td>128101</td>\n",
       "      <td>f7151fb3a6269230dcaa048646568c53ad69ab3b3d24ae...</td>\n",
       "      <td>2016-06-01 07:58:40.0</td>\n",
       "      <td>Buch - Süßer die Glocken...</td>\n",
       "      <td>3</td>\n",
       "      <td>2</td>\n",
       "      <td>0</td>\n",
       "      <td>128101 128001 100346123 601</td>\n",
       "      <td>Erotikliteratur</td>\n",
       "      <td>1</td>\n",
       "    </tr>\n",
       "    <tr>\n",
       "      <th>3</th>\n",
       "      <td>e94d7bb5f915bcc3a5968f6454d9dcd7fbec5885e09286...</td>\n",
       "      <td>e30f11660b6d8559e66bb00b9847324f</td>\n",
       "      <td>e30f11660b6d8559e66bb00b9847324f-1076982042286...</td>\n",
       "      <td>de</td>\n",
       "      <td>100270123</td>\n",
       "      <td>7ffbeedfb14f46f259001cefc4d79048ccef25b9e87207...</td>\n",
       "      <td>2016-06-02 02:26:14.0</td>\n",
       "      <td>Masturbator Mood Pleasure Stroker UR3 Thick Ri...</td>\n",
       "      <td>7</td>\n",
       "      <td>3</td>\n",
       "      <td>2</td>\n",
       "      <td>100270123 128001 100346123 601</td>\n",
       "      <td>Sex Gags</td>\n",
       "      <td>1</td>\n",
       "    </tr>\n",
       "    <tr>\n",
       "      <th>4</th>\n",
       "      <td>515408cbdab92663d58bc03e6d14bcb298250f89052d99...</td>\n",
       "      <td>7e38a7b5c2881d5b38fada633fc36507</td>\n",
       "      <td>7e38a7b5c2881d5b38fada633fc36507-1076982511973...</td>\n",
       "      <td>de</td>\n",
       "      <td>100270123</td>\n",
       "      <td>978f3cfa5eec8581696bf86dfd458583ad718be08831ba...</td>\n",
       "      <td>2016-06-01 21:51:30.0</td>\n",
       "      <td>Masturbator Hustler Porn Star Pussy and Ass St...</td>\n",
       "      <td>7</td>\n",
       "      <td>4</td>\n",
       "      <td>3</td>\n",
       "      <td>100270123 128001 100346123 601</td>\n",
       "      <td>Sex Gags</td>\n",
       "      <td>8</td>\n",
       "    </tr>\n",
       "    <tr>\n",
       "      <th>...</th>\n",
       "      <td>...</td>\n",
       "      <td>...</td>\n",
       "      <td>...</td>\n",
       "      <td>...</td>\n",
       "      <td>...</td>\n",
       "      <td>...</td>\n",
       "      <td>...</td>\n",
       "      <td>...</td>\n",
       "      <td>...</td>\n",
       "      <td>...</td>\n",
       "      <td>...</td>\n",
       "      <td>...</td>\n",
       "      <td>...</td>\n",
       "      <td>...</td>\n",
       "    </tr>\n",
       "    <tr>\n",
       "      <th>695294</th>\n",
       "      <td>c74fae4b934fb70bf715e342750b32168003fa6a293053...</td>\n",
       "      <td>1e4fcdfffdd4486329db97d1cdfefea3</td>\n",
       "      <td>1e4fcdfffdd4486329db97d1cdfefea3-107698414764_...</td>\n",
       "      <td>de</td>\n",
       "      <td>100354123</td>\n",
       "      <td>10193f5ede1da1793f6e916b2b735e66b4695da374ca96...</td>\n",
       "      <td>2016-06-20 21:59:02.0</td>\n",
       "      <td>Volkswagen Others andere T5 4 Motion Seikel ex...</td>\n",
       "      <td>38800</td>\n",
       "      <td>415084</td>\n",
       "      <td>292269</td>\n",
       "      <td>100354123 172601 601</td>\n",
       "      <td>Neuwagen &amp; Gebrauchtwagen</td>\n",
       "      <td>2</td>\n",
       "    </tr>\n",
       "    <tr>\n",
       "      <th>695295</th>\n",
       "      <td>0545f776ed11ccd13a87edb50e6db3884c0486143c942c...</td>\n",
       "      <td>31299ce627c503000b94dd4fc38cc524</td>\n",
       "      <td>31299ce627c503000b94dd4fc38cc524-1076982532468...</td>\n",
       "      <td>de</td>\n",
       "      <td>100354123</td>\n",
       "      <td>10193f5ede1da1793f6e916b2b735e66b4695da374ca96...</td>\n",
       "      <td>2016-06-23 07:27:45.0</td>\n",
       "      <td>Renault Trafic 2.0 dCi Kasten L1 H2 Hochdach K...</td>\n",
       "      <td>38800</td>\n",
       "      <td>404822</td>\n",
       "      <td>292763</td>\n",
       "      <td>100354123 172601 601</td>\n",
       "      <td>Neuwagen &amp; Gebrauchtwagen</td>\n",
       "      <td>3</td>\n",
       "    </tr>\n",
       "    <tr>\n",
       "      <th>695296</th>\n",
       "      <td>89e9595822ce0306e4a7095cd5be24d8903c4dc5315a42...</td>\n",
       "      <td>cb9e3f0101b548e75c3eea926d8f4512</td>\n",
       "      <td>cb9e3f0101b548e75c3eea926d8f4512-1076984113503...</td>\n",
       "      <td>de</td>\n",
       "      <td>100354123</td>\n",
       "      <td>e8405f8ba2d509f5164a5618d98264e64ce685ecc17f9c...</td>\n",
       "      <td>2016-06-21 22:47:34.0</td>\n",
       "      <td>Mercedes-Benz AMG GT S</td>\n",
       "      <td>38800</td>\n",
       "      <td>5821</td>\n",
       "      <td>282112</td>\n",
       "      <td>100354123 172601 601</td>\n",
       "      <td>Neuwagen &amp; Gebrauchtwagen</td>\n",
       "      <td>3</td>\n",
       "    </tr>\n",
       "    <tr>\n",
       "      <th>695297</th>\n",
       "      <td>e05f6c11fda2470c9340e17e0c1b98469e8c33dd321964...</td>\n",
       "      <td>179682c7059bcc805eab3811592d6fa5</td>\n",
       "      <td>179682c7059bcc805eab3811592d6fa5-1076982531653...</td>\n",
       "      <td>de</td>\n",
       "      <td>100354123</td>\n",
       "      <td>5db7742cf423cee7d12f7e1eb84dbda721314e6addc008...</td>\n",
       "      <td>2016-06-12 16:04:15.0</td>\n",
       "      <td>Hyundai iX35 1.7 CRDi 2WD</td>\n",
       "      <td>38800</td>\n",
       "      <td>16640</td>\n",
       "      <td>282767</td>\n",
       "      <td>100354123 172601 601</td>\n",
       "      <td>Neuwagen &amp; Gebrauchtwagen</td>\n",
       "      <td>5</td>\n",
       "    </tr>\n",
       "    <tr>\n",
       "      <th>695298</th>\n",
       "      <td>d643993ed6858cbfd6c10d9e3c24e2da71c51f438b2e07...</td>\n",
       "      <td>30958178330f29946e816b91401f0db9</td>\n",
       "      <td>30958178330f29946e816b91401f0db9-1076982532643...</td>\n",
       "      <td>de</td>\n",
       "      <td>100354123</td>\n",
       "      <td>e8405f8ba2d509f5164a5618d98264e64ce685ecc17f9c...</td>\n",
       "      <td>2016-06-21 13:31:28.0</td>\n",
       "      <td>Volkswagen Tiguan 2.0 TDI DPF 4Motion Spot NAV...</td>\n",
       "      <td>38800</td>\n",
       "      <td>417727</td>\n",
       "      <td>282195</td>\n",
       "      <td>100354123 172601 601</td>\n",
       "      <td>Neuwagen &amp; Gebrauchtwagen</td>\n",
       "      <td>1</td>\n",
       "    </tr>\n",
       "  </tbody>\n",
       "</table>\n",
       "<p>695299 rows × 14 columns</p>\n",
       "</div>"
      ],
      "text/plain": [
       "                                                   UserId  \\\n",
       "0       d37a4e15a65cb9e6b2a5c3bd6b109c2cbb8ea28ea0e249...   \n",
       "1       67d65125918799e0cb955526f8245b633c13729f20644d...   \n",
       "2       7ff9936d1bc8fd24ff1e7333e0ff0b70b5214a949f3aa3...   \n",
       "3       e94d7bb5f915bcc3a5968f6454d9dcd7fbec5885e09286...   \n",
       "4       515408cbdab92663d58bc03e6d14bcb298250f89052d99...   \n",
       "...                                                   ...   \n",
       "695294  c74fae4b934fb70bf715e342750b32168003fa6a293053...   \n",
       "695295  0545f776ed11ccd13a87edb50e6db3884c0486143c942c...   \n",
       "695296  89e9595822ce0306e4a7095cd5be24d8903c4dc5315a42...   \n",
       "695297  e05f6c11fda2470c9340e17e0c1b98469e8c33dd321964...   \n",
       "695298  d643993ed6858cbfd6c10d9e3c24e2da71c51f438b2e07...   \n",
       "\n",
       "                                 OfferId  \\\n",
       "0       874006e61139f2b56ba21a46fe554753   \n",
       "1       568777b0316aafe2b858d9a10e9ead28   \n",
       "2       874006e61139f2b56ba21a46fe554753   \n",
       "3       e30f11660b6d8559e66bb00b9847324f   \n",
       "4       7e38a7b5c2881d5b38fada633fc36507   \n",
       "...                                  ...   \n",
       "695294  1e4fcdfffdd4486329db97d1cdfefea3   \n",
       "695295  31299ce627c503000b94dd4fc38cc524   \n",
       "695296  cb9e3f0101b548e75c3eea926d8f4512   \n",
       "695297  179682c7059bcc805eab3811592d6fa5   \n",
       "695298  30958178330f29946e816b91401f0db9   \n",
       "\n",
       "                                              OfferViewId CountryCode  \\\n",
       "0       874006e61139f2b56ba21a46fe554753-1076982502353...          de   \n",
       "1       568777b0316aafe2b858d9a10e9ead28-1076982502353...          de   \n",
       "2       874006e61139f2b56ba21a46fe554753-1076982502353...          de   \n",
       "3       e30f11660b6d8559e66bb00b9847324f-1076982042286...          de   \n",
       "4       7e38a7b5c2881d5b38fada633fc36507-1076982511973...          de   \n",
       "...                                                   ...         ...   \n",
       "695294  1e4fcdfffdd4486329db97d1cdfefea3-107698414764_...          de   \n",
       "695295  31299ce627c503000b94dd4fc38cc524-1076982532468...          de   \n",
       "695296  cb9e3f0101b548e75c3eea926d8f4512-1076984113503...          de   \n",
       "695297  179682c7059bcc805eab3811592d6fa5-1076982531653...          de   \n",
       "695298  30958178330f29946e816b91401f0db9-1076982532643...          de   \n",
       "\n",
       "         Category                                             Source  \\\n",
       "0          128101  f7151fb3a6269230dcaa048646568c53ad69ab3b3d24ae...   \n",
       "1          128101  f7151fb3a6269230dcaa048646568c53ad69ab3b3d24ae...   \n",
       "2          128101  f7151fb3a6269230dcaa048646568c53ad69ab3b3d24ae...   \n",
       "3       100270123  7ffbeedfb14f46f259001cefc4d79048ccef25b9e87207...   \n",
       "4       100270123  978f3cfa5eec8581696bf86dfd458583ad718be08831ba...   \n",
       "...           ...                                                ...   \n",
       "695294  100354123  10193f5ede1da1793f6e916b2b735e66b4695da374ca96...   \n",
       "695295  100354123  10193f5ede1da1793f6e916b2b735e66b4695da374ca96...   \n",
       "695296  100354123  e8405f8ba2d509f5164a5618d98264e64ce685ecc17f9c...   \n",
       "695297  100354123  5db7742cf423cee7d12f7e1eb84dbda721314e6addc008...   \n",
       "695298  100354123  e8405f8ba2d509f5164a5618d98264e64ce685ecc17f9c...   \n",
       "\n",
       "                      UtcDate  \\\n",
       "0       2016-06-01 13:24:13.0   \n",
       "1       2016-06-01 03:32:14.0   \n",
       "2       2016-06-01 07:58:40.0   \n",
       "3       2016-06-02 02:26:14.0   \n",
       "4       2016-06-01 21:51:30.0   \n",
       "...                       ...   \n",
       "695294  2016-06-20 21:59:02.0   \n",
       "695295  2016-06-23 07:27:45.0   \n",
       "695296  2016-06-21 22:47:34.0   \n",
       "695297  2016-06-12 16:04:15.0   \n",
       "695298  2016-06-21 13:31:28.0   \n",
       "\n",
       "                                               OfferTitle  Cat_clicks    User  \\\n",
       "0                             Buch - Süßer die Glocken...           3       0   \n",
       "1            Buch - Shades of Grey 1 - Geheimes Verlangen           3       1   \n",
       "2                             Buch - Süßer die Glocken...           3       2   \n",
       "3       Masturbator Mood Pleasure Stroker UR3 Thick Ri...           7       3   \n",
       "4       Masturbator Hustler Porn Star Pussy and Ass St...           7       4   \n",
       "...                                                   ...         ...     ...   \n",
       "695294  Volkswagen Others andere T5 4 Motion Seikel ex...       38800  415084   \n",
       "695295  Renault Trafic 2.0 dCi Kasten L1 H2 Hochdach K...       38800  404822   \n",
       "695296                             Mercedes-Benz AMG GT S       38800    5821   \n",
       "695297                          Hyundai iX35 1.7 CRDi 2WD       38800   16640   \n",
       "695298  Volkswagen Tiguan 2.0 TDI DPF 4Motion Spot NAV...       38800  417727   \n",
       "\n",
       "         Offer                     Ancestor_ID                       Name  \\\n",
       "0            0     128101 128001 100346123 601            Erotikliteratur   \n",
       "1            1     128101 128001 100346123 601            Erotikliteratur   \n",
       "2            0     128101 128001 100346123 601            Erotikliteratur   \n",
       "3            2  100270123 128001 100346123 601                   Sex Gags   \n",
       "4            3  100270123 128001 100346123 601                   Sex Gags   \n",
       "...        ...                             ...                        ...   \n",
       "695294  292269            100354123 172601 601  Neuwagen & Gebrauchtwagen   \n",
       "695295  292763            100354123 172601 601  Neuwagen & Gebrauchtwagen   \n",
       "695296  282112            100354123 172601 601  Neuwagen & Gebrauchtwagen   \n",
       "695297  282767            100354123 172601 601  Neuwagen & Gebrauchtwagen   \n",
       "695298  282195            100354123 172601 601  Neuwagen & Gebrauchtwagen   \n",
       "\n",
       "        UserClicks  \n",
       "0                1  \n",
       "1                1  \n",
       "2                1  \n",
       "3                1  \n",
       "4                8  \n",
       "...            ...  \n",
       "695294           2  \n",
       "695295           3  \n",
       "695296           3  \n",
       "695297           5  \n",
       "695298           1  \n",
       "\n",
       "[695299 rows x 14 columns]"
      ]
     },
     "execution_count": 273,
     "metadata": {},
     "output_type": "execute_result"
    }
   ],
   "source": [
    "clicks_de"
   ]
  },
  {
   "cell_type": "code",
   "execution_count": null,
   "id": "f2a5fbd9-801c-4aa2-b45b-8f6cf854daeb",
   "metadata": {},
   "outputs": [],
   "source": []
  }
 ],
 "metadata": {
  "kernelspec": {
   "display_name": "Python 3 (ipykernel)",
   "language": "python",
   "name": "python3"
  },
  "language_info": {
   "codemirror_mode": {
    "name": "ipython",
    "version": 3
   },
   "file_extension": ".py",
   "mimetype": "text/x-python",
   "name": "python",
   "nbconvert_exporter": "python",
   "pygments_lexer": "ipython3",
   "version": "3.10.1"
  }
 },
 "nbformat": 4,
 "nbformat_minor": 5
}
